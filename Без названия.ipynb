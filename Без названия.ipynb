{
 "cells": [
  {
   "cell_type": "code",
   "execution_count": 1,
   "metadata": {},
   "outputs": [
    {
     "name": "stdout",
     "output_type": "stream",
     "text": [
      "Введите день :12 04\n"
     ]
    },
    {
     "ename": "ValueError",
     "evalue": "invalid literal for int() with base 10: '12 04'",
     "output_type": "error",
     "traceback": [
      "\u001b[0;31m---------------------------------------------------------------------------\u001b[0m",
      "\u001b[0;31mValueError\u001b[0m                                Traceback (most recent call last)",
      "\u001b[0;32m<ipython-input-1-e57c3e30bae5>\u001b[0m in \u001b[0;36m<module>\u001b[0;34m\u001b[0m\n\u001b[1;32m      7\u001b[0m         \u001b[0;34m\"Virgo\"\u001b[0m\u001b[0;34m,\u001b[0m\u001b[0;34m\"Libra\"\u001b[0m\u001b[0;34m,\u001b[0m\u001b[0;34m\"Scorpio\"\u001b[0m\u001b[0;34m,\u001b[0m\u001b[0;34m\u001b[0m\u001b[0;34m\u001b[0m\u001b[0m\n\u001b[1;32m      8\u001b[0m         \"Sagittarius\",\"Capricorn\"]\n\u001b[0;32m----> 9\u001b[0;31m \u001b[0mdate\u001b[0m \u001b[0;34m=\u001b[0m \u001b[0mint\u001b[0m\u001b[0;34m(\u001b[0m\u001b[0minput\u001b[0m\u001b[0;34m(\u001b[0m\u001b[0;34m\"Введите день :\"\u001b[0m\u001b[0;34m)\u001b[0m\u001b[0;34m)\u001b[0m\u001b[0;34m\u001b[0m\u001b[0;34m\u001b[0m\u001b[0m\n\u001b[0m\u001b[1;32m     10\u001b[0m \u001b[0mmonth\u001b[0m \u001b[0;34m=\u001b[0m \u001b[0mint\u001b[0m\u001b[0;34m(\u001b[0m\u001b[0minput\u001b[0m\u001b[0;34m(\u001b[0m\u001b[0;34m\"Введите месяц :\"\u001b[0m\u001b[0;34m)\u001b[0m\u001b[0;34m)\u001b[0m\u001b[0;34m\u001b[0m\u001b[0;34m\u001b[0m\u001b[0m\n\u001b[1;32m     11\u001b[0m \u001b[0;34m\u001b[0m\u001b[0m\n",
      "\u001b[0;31mValueError\u001b[0m: invalid literal for int() with base 10: '12 04'"
     ]
    }
   ],
   "source": [
    "from datetime import datetime\n",
    "import bisect\n",
    "tdays = [19,49,80,110,141,173,204,\n",
    "          235,256,296,327,356,366]\n",
    "zod =[\"Capricorn\",\"Aquarius\",\"Pisces\",\"Aries\",\n",
    "    \"Taurus\",\"Gemini\",\"Crayfish\",\"Leo\",\n",
    "        \"Virgo\",\"Libra\",\"Scorpio\",\n",
    "        \"Sagittarius\",\"Capricorn\"]\n",
    "date = int(input(\"Введите день :\"))\n",
    "month = int(input(\"Введите месяц :\"))\n",
    "\n",
    "d, m = map(int,input().split())\n",
    "print(zod[bisect.bisect_left\n",
    "         (tdays,(datetime(2020, m, d) - \n",
    "                 datetime(2019,12,31)).days)])"
   ]
  },
  {
   "cell_type": "code",
   "execution_count": 3,
   "metadata": {},
   "outputs": [
    {
     "name": "stdout",
     "output_type": "stream",
     "text": [
      "Введите день :1\n",
      "Введите месяц :12\n",
      "Sagittarius\n"
     ]
    }
   ],
   "source": [
    "from datetime import datetime\n",
    "import bisect\n",
    "tdays = [19,49,80,110,141,173,204,\n",
    "          235,256,296,327,356,366]\n",
    "zod =[\"Capricorn\",\"Aquarius\",\"Pisces\",\"Aries\",\n",
    "    \"Taurus\",\"Gemini\",\"Crayfish\",\"Leo\",\n",
    "        \"Virgo\",\"Libra\",\"Scorpio\",\n",
    "        \"Sagittarius\",\"Capricorn\"]\n",
    "date = int(input(\"Введите день :\"))\n",
    "month = int(input(\"Введите месяц :\"))\n",
    "print(zod[bisect.bisect_left\n",
    "         (tdays,(datetime(2020, month, date) - \n",
    "                 datetime(2019,12,31)).days)])"
   ]
  },
  {
   "cell_type": "code",
   "execution_count": null,
   "metadata": {},
   "outputs": [],
   "source": []
  }
 ],
 "metadata": {
  "kernelspec": {
   "display_name": "Python 3",
   "language": "python",
   "name": "python3"
  },
  "language_info": {
   "codemirror_mode": {
    "name": "ipython",
    "version": 3
   },
   "file_extension": ".py",
   "mimetype": "text/x-python",
   "name": "python",
   "nbconvert_exporter": "python",
   "pygments_lexer": "ipython3",
   "version": "3.8.5"
  }
 },
 "nbformat": 4,
 "nbformat_minor": 4
}
